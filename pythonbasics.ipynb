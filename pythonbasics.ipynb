{
  "nbformat": 4,
  "nbformat_minor": 0,
  "metadata": {
    "colab": {
      "provenance": []
    },
    "kernelspec": {
      "name": "python3",
      "display_name": "Python 3"
    },
    "language_info": {
      "name": "python"
    }
  },
  "cells": [
    {
      "cell_type": "code",
      "execution_count": null,
      "metadata": {
        "id": "ghjmf9oH8CLf"
      },
      "outputs": [],
      "source": []
    },
    {
      "cell_type": "markdown",
      "source": [
        "# Python Basics Assignment Questions   "
      ],
      "metadata": {
        "id": "n0yT5eDN8HSd"
      }
    },
    {
      "cell_type": "markdown",
      "source": [
        "1- **what is python, and why its popular ?**\n",
        "\n",
        "Answer - Python is a high-level, easy-to-learn programming language known for its simple syntax and versatility. It’s used in web development, data science, automation, machine learning, game development, and more. Python is popular because it is beginner-friendly, has a large community and ecosystem, supports various programming paradigms, and is cross-platform. Its strong presence in data science and AI further boosts its demand. Overall, Python’s simplicity and flexibility make it a favorite for both beginners and professionals.\n",
        "\n",
        "\n",
        "\n",
        "2- **what is an interpreter in python ?**\n",
        "\n",
        "Answer - An interpreter in Python is a program that executes Python code line by line. It reads and converts the Python code into machine-readable instructions, running it directly without needing to compile it into a separate executable file. This allows for easier debugging and immediate execution of code, making development faster and more flexible. Python's interpreter can be run interactively, which is ideal for testing small pieces of code or experimenting with Python commands.\n",
        "\n",
        "3- **what are pre-defined keywords in python ?**\n",
        "\n",
        "Answer- Pre-defined keywords in Python are reserved words that have special meanings and cannot be used as variable names. Examples include `if`, `else`, `for`, `while`, `def`, `True`, `False`, `class`, and `return`. These keywords are essential for defining the structure and behavior of Python code.\n",
        "\n",
        "4- **Can keywords be used as variable name ?**\n",
        "\n",
        "Answer- No, keywords cannot be used as variable names in Python. Since they have special meanings in the language (like if, while, for, def, etc.), using them as variable names would cause a syntax error.\n",
        "\n",
        "For example, this would raise an error:\n",
        "**if = 10  # Invalid, 'if' is a keyword**\n",
        "\n",
        "5- **What is mutability in python ?**\n",
        "\n",
        "Answer- Mutability in Python refers to whether an object's value can be changed after it is created.\n",
        "For Examples include lists, dictionaries, and sets. You can modify, add, or remove elements from these objects.\n",
        "\n",
        "6- Why are the list mutable, but tuples are immutable ?\n",
        "\n",
        "Answer- Lists are **mutable** because they are designed to allow changes to their content, such as adding, removing, or modifying elements. This makes them flexible and suitable for situations where you need to modify the data frequently.\n",
        "\n",
        "Tuples, on the other hand, are **immutable** because they are designed for situations where the data should not be altered after creation. This immutability makes tuples faster and more memory-efficient, as well as safer when you need to ensure the data remains constant throughout the program.\n",
        "\n",
        "In short, **lists** allow changes, while **tuples** don't, providing different use cases for each type.\n",
        "\n",
        "7- What are the differnce between \"==\" and is operations in Python ?\n",
        "\n",
        "Answer- \"==\" checks if the values of two objects are the same.\n",
        "        \"is\" checks if two objects are the same in memory (i.e., they are the exact same object).\n",
        "\n",
        "8- What are logical operators in Python ?\n",
        "\n",
        "Answer- Python's logical operators are used to combine conditions:\n",
        "        **and:** Returns True if both conditions are True.\n",
        "        **or:** Returns True if at least one condition is True\n",
        "        **not:** Reverses the result (makes True become False and vice versa).\n",
        "\n",
        "Example:\n",
        "\n",
        "         True and False  # False\n",
        "         True or False   # True\n",
        "         not True        # False\n",
        "\n",
        "9- What is type casting in Python ?  \n",
        "\n",
        "Answer- Type casting in Python is the process of converting one data type into another. It allows you to change the type of a variable or value to make it compatible with certain operations.\n",
        "\n",
        "There are two types: Implicit casting and Explicit casting.\n",
        "\n",
        "\n",
        "10- What is difference between implicit and explicit type casting ?\n",
        "\n",
        "Answer - Implicit type casting (automatic) happens when Python automatically converts a smaller data type to a larger one, like from int to float, without any user intervention.\n",
        "\n",
        "Example -\n",
        "\n",
        "         x = 5        # int\n",
        "         x = x + 2.5  # Python automatically converts x to float\n",
        "\n",
        "Explicit type casting (manual) requires the programmer to convert a data type using functions like int(), float(), or str().\n",
        "\n",
        "Example -\n",
        "         \n",
        "         x = \"10\"\n",
        "         x = int(x)   # Manually converts string to integer\n",
        "\n",
        "11 - What are the purpose of conditional statement in python ?  \n",
        "\n",
        "Answer - Conditional statements in Python are used to execute different blocks of code based on certain conditions. They allow you to make decisions in your program.\n",
        "\n",
        "Example:\n",
        "\n",
        "        x = 10\n",
        "        if x > 5:\n",
        "            print(\"Greater than 5\")\n",
        "        else:\n",
        "            print(\"Not greater than 5\")\n",
        "\n",
        "12 - How does the elif statement work ?   \n",
        "\n",
        "Answer - The elif statement in Python is used to check additional conditions if the initial if condition is False. You can have multiple elif statements to test different conditions. If none of the if or elif conditions are True, the code in the else block (if present) will be executed.\n",
        "\n",
        "13 - What is the differnce between for and while loops ?\n",
        "\n",
        "Answer - The for loop is used when you know the number of iterations or want to iterate over a sequence, like a list, tuple, or range. It runs a set number of times based on the sequence or range you provide.\n",
        "\n",
        "The while loop, on the other hand, continues to execute as long as a given condition is True. It is useful when the number of iterations is not known in advance and depends on the condition being met.\n",
        "\n",
        "\n",
        "14 - Describe a scenario where a while loop is more suitable than a for loop.\n",
        "\n",
        "Answer - A while loop is more suitable than a for loop when the number of iterations is not known in advance and depends on a condition that could change during the execution.\n",
        "\n",
        "Scenario: Imagine you are writing a program to ask a user for their password until they enter the correct one. The number of attempts is unknown, as it depends on when the user provides the correct password.\n",
        "\n",
        "     correct_password = \"my_secret\"\n",
        "     user_input = \"\"\n",
        "\n",
        "     while user_input != correct_password:\n",
        "     user_input = input(\"Enter your password: \")\n",
        "\n",
        "     print(\"Access granted.\")\n",
        "\n",
        "In this scenario, the while loop is ideal because we don't know how many attempts the user will need, and the loop continues until the condition (correct password) is met.\n",
        "\n",
        "\n",
        "\n",
        "\n"
      ],
      "metadata": {
        "id": "DdqJ3jdR9dYN"
      }
    },
    {
      "cell_type": "markdown",
      "source": [
        "# Python Basics Pratical Questions"
      ],
      "metadata": {
        "id": "2gEh0RpmHTKt"
      }
    },
    {
      "cell_type": "markdown",
      "source": [
        "1 - Write a python program to print \"hello, World!\""
      ],
      "metadata": {
        "id": "9I-Zh1o1Hg_f"
      }
    },
    {
      "cell_type": "code",
      "source": [
        "print(\"hello World!\")"
      ],
      "metadata": {
        "colab": {
          "base_uri": "https://localhost:8080/"
        },
        "id": "hRBgGIa59fgt",
        "outputId": "9ab4c8d7-df7f-4ebc-f37a-68353ee3ab26"
      },
      "execution_count": 5,
      "outputs": [
        {
          "output_type": "stream",
          "name": "stdout",
          "text": [
            "hello World!\n"
          ]
        }
      ]
    },
    {
      "cell_type": "markdown",
      "source": [
        "2- Write a python program that displays your Name and age."
      ],
      "metadata": {
        "id": "2op52T4rIDGf"
      }
    },
    {
      "cell_type": "code",
      "source": [
        "name = \"Manjunatha B Bangera\"\n",
        "age = 31\n",
        "\n",
        "print(\"Name:\", name)\n",
        "print(\"Age:\", age)\n"
      ],
      "metadata": {
        "colab": {
          "base_uri": "https://localhost:8080/"
        },
        "id": "2DsURR8BH_wY",
        "outputId": "bb747dcb-afc2-4ce8-b7c2-ff332b0f828e"
      },
      "execution_count": 7,
      "outputs": [
        {
          "output_type": "stream",
          "name": "stdout",
          "text": [
            "Name: Manjunatha B Bangera\n",
            "Age: 31\n"
          ]
        }
      ]
    },
    {
      "cell_type": "markdown",
      "source": [
        "3- Write code to print all the pre-defined keywords in Python using keyword library."
      ],
      "metadata": {
        "id": "cbU3mUd9IiJi"
      }
    },
    {
      "cell_type": "code",
      "source": [
        "import keyword\n",
        "\n",
        "# Print all Python keywords\n",
        "print(\"Python Keywords:\", keyword.kwlist)\n"
      ],
      "metadata": {
        "colab": {
          "base_uri": "https://localhost:8080/"
        },
        "id": "mHMzstmoIgB7",
        "outputId": "67a6d80e-b16e-4cfe-a552-92169602e1f1"
      },
      "execution_count": 8,
      "outputs": [
        {
          "output_type": "stream",
          "name": "stdout",
          "text": [
            "Python Keywords: ['False', 'None', 'True', 'and', 'as', 'assert', 'async', 'await', 'break', 'class', 'continue', 'def', 'del', 'elif', 'else', 'except', 'finally', 'for', 'from', 'global', 'if', 'import', 'in', 'is', 'lambda', 'nonlocal', 'not', 'or', 'pass', 'raise', 'return', 'try', 'while', 'with', 'yield']\n"
          ]
        }
      ]
    },
    {
      "cell_type": "markdown",
      "source": [
        "4- Write a program that checks if given word is python keyword."
      ],
      "metadata": {
        "id": "U7xlnoUtI7WV"
      }
    },
    {
      "cell_type": "code",
      "source": [
        "import keyword\n",
        "\n",
        "# Input word\n",
        "word = input(\"Enter a word: \")\n",
        "\n",
        "# Check if the word is a Python keyword\n",
        "if keyword.iskeyword(word):\n",
        "    print(f\"'{word}' is a Python keyword.\")\n",
        "else:\n",
        "    print(f\"'{word}' is not a Python keyword.\")\n"
      ],
      "metadata": {
        "colab": {
          "base_uri": "https://localhost:8080/"
        },
        "id": "qE5JnQN1KZYR",
        "outputId": "bfec3d53-efe3-417d-cdec-ef149fe94c86"
      },
      "execution_count": 6,
      "outputs": [
        {
          "output_type": "stream",
          "name": "stdout",
          "text": [
            "Enter a word: def\n",
            "'def' is a Python keyword.\n"
          ]
        }
      ]
    },
    {
      "cell_type": "markdown",
      "source": [
        "5- Create a list and tuple in Python, and demonstate how attempting to change an element works differently for each."
      ],
      "metadata": {
        "id": "whaY5RhMJaAh"
      }
    },
    {
      "cell_type": "code",
      "source": [
        "# Creating a list\n",
        "my_list = [1, 2, 3, 4]\n",
        "\n",
        "# Attempting to change an element in the list\n",
        "my_list[1] = 10\n",
        "print(\"Updated list:\", my_list)\n",
        "\n",
        "# Creating a tuple\n",
        "my_tuple = (1, 2, 3, 4)\n",
        "\n",
        "# Attempting to change an element in the tuple (this will raise an error)\n",
        "try:\n",
        "    my_tuple[1] = 10\n",
        "except TypeError as e:\n",
        "    print(\"Error:\", e)\n"
      ],
      "metadata": {
        "colab": {
          "base_uri": "https://localhost:8080/"
        },
        "id": "0tPbxgArJP2P",
        "outputId": "0f392dbd-caad-471d-d085-47890723a7a6"
      },
      "execution_count": 1,
      "outputs": [
        {
          "output_type": "stream",
          "name": "stdout",
          "text": [
            "Updated list: [1, 10, 3, 4]\n",
            "Error: 'tuple' object does not support item assignment\n"
          ]
        }
      ]
    },
    {
      "cell_type": "markdown",
      "source": [
        "6- Write a functions to demonstrate the behavior of mutable and immutable arguments."
      ],
      "metadata": {
        "id": "PjM3YSl5LSGk"
      }
    },
    {
      "cell_type": "code",
      "source": [
        "# Function to demonstrate mutable argument (list)\n",
        "def modify_list(my_list):\n",
        "    print(\"Original list inside function:\", my_list)\n",
        "    my_list.append(4)  # Modifying the list (mutable)\n",
        "    print(\"Modified list inside function:\", my_list)\n",
        "\n",
        "# Function to demonstrate immutable argument (integer)\n",
        "def modify_integer(my_int):\n",
        "    print(\"Original integer inside function:\", my_int)\n",
        "    my_int += 10  # Modifying the integer (immutable)\n",
        "    print(\"Modified integer inside function:\", my_int)\n",
        "\n",
        "# Test with a mutable argument (list)\n",
        "my_list = [1, 2, 3]\n",
        "modify_list(my_list)  # List will be modified\n",
        "print(\"List outside function after modification:\", my_list)\n",
        "\n",
        "# Test with an immutable argument (integer)\n",
        "my_int = 5\n",
        "modify_integer(my_int)  # Integer will not be modified\n",
        "print(\"Integer outside function after modification:\", my_int)\n"
      ],
      "metadata": {
        "colab": {
          "base_uri": "https://localhost:8080/"
        },
        "id": "7UgdZNlbKmlG",
        "outputId": "24146707-798d-47d4-d323-901097bd76b2"
      },
      "execution_count": 2,
      "outputs": [
        {
          "output_type": "stream",
          "name": "stdout",
          "text": [
            "Original list inside function: [1, 2, 3]\n",
            "Modified list inside function: [1, 2, 3, 4]\n",
            "List outside function after modification: [1, 2, 3, 4]\n",
            "Original integer inside function: 5\n",
            "Modified integer inside function: 15\n",
            "Integer outside function after modification: 5\n"
          ]
        }
      ]
    },
    {
      "cell_type": "markdown",
      "source": [
        "7- Write a functions to demonstrate the behavior of mutable and immutable arguments."
      ],
      "metadata": {
        "id": "rqol7TKJLxbW"
      }
    },
    {
      "cell_type": "code",
      "source": [
        "# Function to demonstrate mutable argument (list)\n",
        "def modify_list(my_list):\n",
        "    print(\"Original list inside function:\", my_list)\n",
        "    my_list.append(4)  # Modifying the list (mutable)\n",
        "    print(\"Modified list inside function:\", my_list)\n",
        "\n",
        "# Function to demonstrate immutable argument (integer)\n",
        "def modify_integer(my_int):\n",
        "    print(\"Original integer inside function:\", my_int)\n",
        "    my_int += 10  # Modifying the integer (immutable)\n",
        "    print(\"Modified integer inside function:\", my_int)\n",
        "\n",
        "# Test with a mutable argument (list)\n",
        "my_list = [1, 2, 3]\n",
        "modify_list(my_list)  # List will be modified\n",
        "print(\"List outside function after modification:\", my_list)\n",
        "\n",
        "# Test with an immutable argument (integer)\n",
        "my_int = 5\n",
        "modify_integer(my_int)  # Integer will not be modified\n",
        "print(\"Integer outside function after modification:\", my_int)\n"
      ],
      "metadata": {
        "colab": {
          "base_uri": "https://localhost:8080/"
        },
        "id": "E7ZFt577LuMN",
        "outputId": "b7f4424c-aa8a-47dc-bca6-a5de54ad564d"
      },
      "execution_count": 3,
      "outputs": [
        {
          "output_type": "stream",
          "name": "stdout",
          "text": [
            "Original list inside function: [1, 2, 3]\n",
            "Modified list inside function: [1, 2, 3, 4]\n",
            "List outside function after modification: [1, 2, 3, 4]\n",
            "Original integer inside function: 5\n",
            "Modified integer inside function: 15\n",
            "Integer outside function after modification: 5\n"
          ]
        }
      ]
    },
    {
      "cell_type": "markdown",
      "source": [
        "8 - write a program to demonstrate the use of logical operator."
      ],
      "metadata": {
        "id": "7MhzeAIcMWsA"
      }
    },
    {
      "cell_type": "code",
      "source": [
        "# Taking input from the user\n",
        "x = int(input(\"Enter a number: \"))\n",
        "y = int(input(\"Enter another number: \"))\n",
        "\n",
        "# Using 'and' logical operator\n",
        "if x > 0 and y > 0:\n",
        "    print(\"Both numbers are positive.\")\n",
        "\n",
        "# Using 'or' logical operator\n",
        "if x > 0 or y > 0:\n",
        "    print(\"At least one number is positive.\")\n",
        "\n",
        "# Using 'not' logical operator\n",
        "if not (x < 0 or y < 0):\n",
        "    print(\"Neither number is negative.\")\n"
      ],
      "metadata": {
        "colab": {
          "base_uri": "https://localhost:8080/"
        },
        "id": "7Bd4iZp-L40f",
        "outputId": "edc468fa-a76d-4879-dd6f-5c3cdf7582a9"
      },
      "execution_count": 4,
      "outputs": [
        {
          "output_type": "stream",
          "name": "stdout",
          "text": [
            "Enter a number: 15\n",
            "Enter another number: 10\n",
            "Both numbers are positive.\n",
            "At least one number is positive.\n",
            "Neither number is negative.\n"
          ]
        }
      ]
    },
    {
      "cell_type": "markdown",
      "source": [
        "9- Write a Python program to convert user input from string to integer , float, and boolean types."
      ],
      "metadata": {
        "id": "fr8lf8khNXwq"
      }
    },
    {
      "cell_type": "code",
      "source": [
        "# Taking user input as a string\n",
        "user_input = input(\"Enter a value: \")\n",
        "\n",
        "# Converting the input to different types\n",
        "integer_value = int(user_input)  # Convert to integer\n",
        "float_value = float(user_input)  # Convert to float\n",
        "boolean_value = user_input.lower() in ['true', '1', 'yes']  # Convert to boolean\n",
        "\n",
        "# Displaying the results\n",
        "print(f\"Integer: {integer_value}\")\n",
        "print(f\"Float: {float_value}\")\n",
        "print(f\"Boolean: {boolean_value}\")\n"
      ],
      "metadata": {
        "colab": {
          "base_uri": "https://localhost:8080/"
        },
        "id": "2bLE8EgmMsky",
        "outputId": "77f0c8ae-c457-4fa7-b064-7446e591d1e1"
      },
      "execution_count": 15,
      "outputs": [
        {
          "output_type": "stream",
          "name": "stdout",
          "text": [
            "Enter a value: 10\n",
            "Integer: 10\n",
            "Float: 10.0\n",
            "Boolean: False\n"
          ]
        }
      ]
    },
    {
      "cell_type": "markdown",
      "source": [
        "10- Write code to demonstrate type casting with list eliments."
      ],
      "metadata": {
        "id": "I9Zo3AULN-TS"
      }
    },
    {
      "cell_type": "code",
      "source": [
        "# Original list with different types\n",
        "my_list = ['10', '20', '30.5', 'True']\n",
        "\n",
        "# Type casting the list elements\n",
        "int_list = [int(x) if x.isdigit() else x for x in my_list]  # Convert numbers (strings) to integers\n",
        "float_list = [float(x) if '.' in x else x for x in my_list]  # Convert float strings to floats\n",
        "bool_list = [True if x.lower() == 'true' else False if x.lower() == 'false' else x for x in my_list]  # Convert 'True'/'False' to boolean\n",
        "\n",
        "# Display results\n",
        "print(\"Original List:\", my_list)\n",
        "print(\"List with Integers:\", int_list)\n",
        "print(\"List with Floats:\", float_list)\n",
        "print(\"List with Booleans:\", bool_list)\n"
      ],
      "metadata": {
        "colab": {
          "base_uri": "https://localhost:8080/"
        },
        "id": "SeB96BkBNxqp",
        "outputId": "9a702168-a5ac-4655-c2f0-fdf362172274"
      },
      "execution_count": 8,
      "outputs": [
        {
          "output_type": "stream",
          "name": "stdout",
          "text": [
            "Original List: ['10', '20', '30.5', 'True']\n",
            "List with Integers: [10, 20, '30.5', 'True']\n",
            "List with Floats: ['10', '20', 30.5, 'True']\n",
            "List with Booleans: ['10', '20', '30.5', True]\n"
          ]
        }
      ]
    },
    {
      "cell_type": "markdown",
      "source": [
        "11- Write a program that checks if a number is postive, negative,or zero."
      ],
      "metadata": {
        "id": "qU6w4MyoOepw"
      }
    },
    {
      "cell_type": "code",
      "source": [
        "# Taking input from the user\n",
        "num = float(input(\"Enter a number: \"))\n",
        "\n",
        "# Checking if the number is positive, negative, or zero\n",
        "if num > 0:\n",
        "    print(f\"{num} is a positive number.\")\n",
        "elif num < 0:\n",
        "    print(f\"{num} is a negative number.\")\n",
        "else:\n",
        "    print(f\"{num} is zero.\")\n"
      ],
      "metadata": {
        "colab": {
          "base_uri": "https://localhost:8080/"
        },
        "id": "U9nxAvPTOYjw",
        "outputId": "8e54c5dd-aba7-4e0f-ad8a-62b801133aac"
      },
      "execution_count": 9,
      "outputs": [
        {
          "output_type": "stream",
          "name": "stdout",
          "text": [
            "Enter a number: 5\n",
            "5.0 is a positive number.\n"
          ]
        }
      ]
    },
    {
      "cell_type": "code",
      "source": [
        "# Taking input from the user\n",
        "num = float(input(\"Enter a number: \"))\n",
        "\n",
        "# Checking if the number is positive, negative, or zero\n",
        "if num > 0:\n",
        "    print(f\"{num} is a positive number.\")\n",
        "elif num < 0:\n",
        "    print(f\"{num} is a negative number.\")\n",
        "else:\n",
        "    print(f\"{num} is zero.\")\n"
      ],
      "metadata": {
        "colab": {
          "base_uri": "https://localhost:8080/"
        },
        "id": "cpCRvQwQOut-",
        "outputId": "330eeced-dae2-4a3a-eb6c-8d366271b030"
      },
      "execution_count": 10,
      "outputs": [
        {
          "output_type": "stream",
          "name": "stdout",
          "text": [
            "Enter a number: -3\n",
            "-3.0 is a negative number.\n"
          ]
        }
      ]
    },
    {
      "cell_type": "code",
      "source": [
        "# Taking input from the user\n",
        "num = float(input(\"Enter a number: \"))\n",
        "\n",
        "# Checking if the number is positive, negative, or zero\n",
        "if num > 0:\n",
        "    print(f\"{num} is a positive number.\")\n",
        "elif num < 0:\n",
        "    print(f\"{num} is a negative number.\")\n",
        "else:\n",
        "    print(f\"{num} is zero.\")\n"
      ],
      "metadata": {
        "colab": {
          "base_uri": "https://localhost:8080/"
        },
        "id": "hklZC6HQO8eQ",
        "outputId": "0bdcbfa1-3d57-4f1d-ceb5-04998d12907f"
      },
      "execution_count": 11,
      "outputs": [
        {
          "output_type": "stream",
          "name": "stdout",
          "text": [
            "Enter a number: 0\n",
            "0.0 is zero.\n"
          ]
        }
      ]
    },
    {
      "cell_type": "markdown",
      "source": [
        "12- Write a for loop to print numbers from 1 to 10."
      ],
      "metadata": {
        "id": "pIs8LJ7lPESH"
      }
    },
    {
      "cell_type": "code",
      "source": [
        "for i in range(1, 11):\n",
        "    print(i)\n"
      ],
      "metadata": {
        "colab": {
          "base_uri": "https://localhost:8080/"
        },
        "id": "y_Nvm7lNPABf",
        "outputId": "ef8f9e5d-b6d1-4029-953f-0ae5ce4d8128"
      },
      "execution_count": 12,
      "outputs": [
        {
          "output_type": "stream",
          "name": "stdout",
          "text": [
            "1\n",
            "2\n",
            "3\n",
            "4\n",
            "5\n",
            "6\n",
            "7\n",
            "8\n",
            "9\n",
            "10\n"
          ]
        }
      ]
    },
    {
      "cell_type": "markdown",
      "source": [
        "13- Write a python program to find the sum of all even numbers between 1 and 50"
      ],
      "metadata": {
        "id": "I0vVUbXWQBxE"
      }
    },
    {
      "cell_type": "code",
      "source": [
        "# Initialize sum variable\n",
        "sum_of_evens = 0\n",
        "\n",
        "# Loop through numbers from 1 to 50\n",
        "for i in range(1, 51):\n",
        "    if i % 2 == 0:  # Check if the number is even\n",
        "        sum_of_evens += i  # Add the even number to sum\n",
        "\n",
        "# Print the result\n",
        "print(\"Sum of all even numbers between 1 and 50:\", sum_of_evens)\n"
      ],
      "metadata": {
        "colab": {
          "base_uri": "https://localhost:8080/"
        },
        "id": "k8E7WhJvPTQi",
        "outputId": "2bc8bccc-f108-4898-ec67-efcd3fc6a6ea"
      },
      "execution_count": 17,
      "outputs": [
        {
          "output_type": "stream",
          "name": "stdout",
          "text": [
            "Sum of all even numbers between 1 and 50: 650\n"
          ]
        }
      ]
    },
    {
      "cell_type": "markdown",
      "source": [
        "14- Write a program to reverse a string using a while loop."
      ],
      "metadata": {
        "id": "sAl1ZEKLQhR7"
      }
    },
    {
      "cell_type": "code",
      "source": [
        "# Input string\n",
        "user_input = input(\"Enter a string: \")\n",
        "\n",
        "# Initialize an empty string to store the reversed string\n",
        "reversed_string = \"\"\n",
        "\n",
        "# Set a counter to the last index of the string\n",
        "index = len(user_input) - 1\n",
        "\n",
        "# Use a while loop to reverse the string\n",
        "while index >= 0:\n",
        "    reversed_string += user_input[index]\n",
        "    index -= 1\n",
        "\n",
        "# Print the reversed string\n",
        "print(\"Reversed string:\", reversed_string)\n"
      ],
      "metadata": {
        "colab": {
          "base_uri": "https://localhost:8080/"
        },
        "id": "2yGLKIK_QelY",
        "outputId": "19f16ba0-d8b0-4cb8-cd77-3f8803464605"
      },
      "execution_count": 18,
      "outputs": [
        {
          "output_type": "stream",
          "name": "stdout",
          "text": [
            "Enter a string: Hello World\n",
            "Reversed string: dlroW olleH\n"
          ]
        }
      ]
    },
    {
      "cell_type": "markdown",
      "source": [
        "15- Write a python program to calculate the factorial of a number provided by the user using a while loop."
      ],
      "metadata": {
        "id": "uYO-M9AVRUnk"
      }
    },
    {
      "cell_type": "code",
      "source": [
        "# Taking input from the user\n",
        "num = int(input(\"Enter a number to find its factorial: \"))\n",
        "\n",
        "# Initialize variables\n",
        "factorial = 1\n",
        "i = 1\n",
        "\n",
        "# Use a while loop to calculate the factorial\n",
        "while i <= num:\n",
        "    factorial *= i\n",
        "    i += 1\n",
        "\n",
        "# Print the result\n",
        "print(f\"Factorial of {num} is {factorial}\")\n"
      ],
      "metadata": {
        "colab": {
          "base_uri": "https://localhost:8080/"
        },
        "id": "9WqmwEB_RNSg",
        "outputId": "34014121-8763-474e-99e3-9145cbc82772"
      },
      "execution_count": 20,
      "outputs": [
        {
          "output_type": "stream",
          "name": "stdout",
          "text": [
            "Enter a number to find its factorial: 5\n",
            "Factorial of 5 is 120\n"
          ]
        }
      ]
    },
    {
      "cell_type": "code",
      "source": [],
      "metadata": {
        "id": "uYo_kj9URpuA"
      },
      "execution_count": null,
      "outputs": []
    }
  ]
}